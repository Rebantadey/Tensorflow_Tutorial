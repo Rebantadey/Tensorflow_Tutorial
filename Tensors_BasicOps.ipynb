{
 "cells": [
  {
   "cell_type": "code",
   "execution_count": 1,
   "id": "e785a8ce-4cc7-4f3c-beff-4df8d074c357",
   "metadata": {},
   "outputs": [],
   "source": [
    "import tensorflow as tf"
   ]
  },
  {
   "cell_type": "markdown",
   "id": "4262ecc0-3f73-487e-8f6b-f370fefb8051",
   "metadata": {},
   "source": [
    "# Zero Dimensinal Tensor (***Scalar***)"
   ]
  },
  {
   "cell_type": "markdown",
   "id": "eeb706f1-c913-48ea-a9be-a434e0ebecb4",
   "metadata": {},
   "source": [
    "## Tensor Declaration"
   ]
  },
  {
   "cell_type": "code",
   "execution_count": 2,
   "id": "71bae9dc-0c4d-457c-9a02-d67f234fc3b2",
   "metadata": {},
   "outputs": [],
   "source": [
    "x = tf.constant(value = 3, dtype = 'uint8')\n",
    "y = tf.constant(value = [[4]], dtype = 'float16')\n",
    "z = tf.constant(value = 5, shape = (1, 1), dtype = 'float32')"
   ]
  },
  {
   "cell_type": "code",
   "execution_count": 3,
   "id": "58cf4a43-e79f-4de9-bc42-bd027a52ad95",
   "metadata": {},
   "outputs": [
    {
     "name": "stdout",
     "output_type": "stream",
     "text": [
      "tf.Tensor(3, shape=(), dtype=uint8)\n",
      "tf.Tensor([[4.]], shape=(1, 1), dtype=float16)\n",
      "tf.Tensor([[5.]], shape=(1, 1), dtype=float32)\n"
     ]
    }
   ],
   "source": [
    "print(x)\n",
    "print(y)\n",
    "print(z)"
   ]
  },
  {
   "cell_type": "markdown",
   "id": "ad3db77b-bf79-4a51-bae7-0d3dcbc6b094",
   "metadata": {},
   "source": [
    "## Basic Math Operations"
   ]
  },
  {
   "cell_type": "code",
   "execution_count": 4,
   "id": "c931c7b5-8a7e-4045-a7ad-44449900cf1c",
   "metadata": {},
   "outputs": [],
   "source": [
    "x = tf.constant(value = 5.6723, dtype = 'float16')\n",
    "y = tf.constant(value = 7.454, dtype = 'float16')"
   ]
  },
  {
   "cell_type": "code",
   "execution_count": 5,
   "id": "b9627f0f-8a5e-454f-8d53-26faddf319ca",
   "metadata": {},
   "outputs": [],
   "source": [
    "sum = tf.add(x, y)\n",
    "subtract = tf.subtract(x, y)\n",
    "multiply = tf.multiply(x, y)\n",
    "divide = tf.divide(x, y)"
   ]
  },
  {
   "cell_type": "code",
   "execution_count": 6,
   "id": "07e823a1-28bc-4f6c-b398-04a82d0036fb",
   "metadata": {},
   "outputs": [
    {
     "name": "stdout",
     "output_type": "stream",
     "text": [
      "Sum : 13.125, Subtract : -1.78125, Multiply : 42.28125, Divide : 0.76123046875\n"
     ]
    }
   ],
   "source": [
    "print(f'Sum : {sum}, Subtract : {subtract}, Multiply : {multiply}, Divide : {divide}')"
   ]
  },
  {
   "cell_type": "markdown",
   "id": "f83f9fdd-6179-4a91-a807-45bbe4c6ea40",
   "metadata": {},
   "source": [
    "# One Dimensional Tensor (***Vector***)"
   ]
  },
  {
   "cell_type": "markdown",
   "id": "f2e18993-3572-47f7-b520-9f5070070d71",
   "metadata": {},
   "source": [
    "## Tensor Declaration"
   ]
  },
  {
   "cell_type": "code",
   "execution_count": 7,
   "id": "633f27d3-1e7b-4705-8423-41ac72c8d75f",
   "metadata": {},
   "outputs": [],
   "source": [
    "x = tf.constant(value = [[3.463, 5.47, 24.178, 3.134]], dtype = 'float16')\n",
    "y = tf.constant(value = [[4.4738, 49.37, 2.343, 7.328]], dtype = 'float16')"
   ]
  },
  {
   "cell_type": "code",
   "execution_count": 8,
   "id": "2ff70c4b-a65e-43bb-9dff-da90078bf0ce",
   "metadata": {},
   "outputs": [
    {
     "name": "stdout",
     "output_type": "stream",
     "text": [
      "tf.Tensor([[ 3.463  5.47  24.17   3.135]], shape=(1, 4), dtype=float16)\n",
      "tf.Tensor([[ 4.473 49.38   2.344  7.33 ]], shape=(1, 4), dtype=float16)\n"
     ]
    }
   ],
   "source": [
    "print(x)\n",
    "print(y)"
   ]
  },
  {
   "cell_type": "markdown",
   "id": "1e2aa913-005a-4b44-8090-3ca9baae7c46",
   "metadata": {},
   "source": [
    "### Basic Math Operations"
   ]
  },
  {
   "cell_type": "code",
   "execution_count": 9,
   "id": "d00ed226-cd4b-44a4-a3af-ebecdd3b2ee2",
   "metadata": {},
   "outputs": [],
   "source": [
    "sum = tf.add(x, y)\n",
    "subtract = tf.subtract(x, y)\n",
    "multiply = tf.multiply(x, y)\n",
    "divide = tf.divide(x, y)\n",
    "\n",
    "dot_product = tf.reduce_sum(tf.multiply(x, y))"
   ]
  },
  {
   "cell_type": "code",
   "execution_count": 10,
   "id": "5c3134b5-173f-4a68-ab6e-a5921281d0c6",
   "metadata": {},
   "outputs": [
    {
     "name": "stdout",
     "output_type": "stream",
     "text": [
      "Element wise Sum : [[ 7.938 54.84  26.52  10.46 ]], Element wise Subtract : [[ -1.01  -43.9    21.83   -4.195]], Element wise Multiply : [[ 15.49 270.    56.66  22.97]], Element wise Divide : [[ 0.7744  0.1108 10.31    0.4277]], \n",
      "Dot Product : 365.0\n"
     ]
    }
   ],
   "source": [
    "print(f'Element wise Sum : {sum}, Element wise Subtract : {subtract}, Element wise Multiply : {multiply}, Element wise Divide : {divide}, \\nDot Product : {dot_product}')"
   ]
  },
  {
   "cell_type": "markdown",
   "id": "3e0ccf12-fdad-47b6-bf05-8287918b54d5",
   "metadata": {},
   "source": [
    "# Two Dimensional Tensor (***Matrix***)"
   ]
  },
  {
   "cell_type": "markdown",
   "id": "6b43853d-37e7-4d22-a937-ff7692f6b1ce",
   "metadata": {},
   "source": [
    "## Tensor Declaration"
   ]
  },
  {
   "cell_type": "code",
   "execution_count": 11,
   "id": "4b6990a2-a3d9-41ac-b8b1-cab2c973f9ca",
   "metadata": {},
   "outputs": [],
   "source": [
    "x = tf.random.normal(shape = (3, 3), stddev = 1, mean = 0)\n",
    "y = tf.random.uniform(shape = (3, 3), minval = -1, maxval = 1)"
   ]
  },
  {
   "cell_type": "code",
   "execution_count": 12,
   "id": "a6d08f40-ccbe-45d1-b9a4-c0e129b6ecf3",
   "metadata": {},
   "outputs": [
    {
     "name": "stdout",
     "output_type": "stream",
     "text": [
      "tf.Tensor(\n",
      "[[ 0.707285    1.1619828  -0.16983266]\n",
      " [ 1.4794102  -0.6452456  -1.5128297 ]\n",
      " [-0.12375502  0.8985882  -0.76404774]], shape=(3, 3), dtype=float32)\n",
      "tf.Tensor(\n",
      "[[-0.09212756 -0.2275703  -0.18839931]\n",
      " [ 0.35876703 -0.57464814  0.9745755 ]\n",
      " [ 0.2488699  -0.8006971   0.10936785]], shape=(3, 3), dtype=float32)\n"
     ]
    }
   ],
   "source": [
    "print(x)\n",
    "print(y)"
   ]
  },
  {
   "cell_type": "markdown",
   "id": "913766fb-d7ee-4620-9472-7a00f54e68a3",
   "metadata": {},
   "source": [
    "## Basic Math Operations"
   ]
  },
  {
   "cell_type": "code",
   "execution_count": 13,
   "id": "13ff1659-2b6e-4010-91ad-9c5f3fdefcaf",
   "metadata": {},
   "outputs": [],
   "source": [
    "sum = tf.add(x, y)\n",
    "subtract = tf.subtract(x, y)\n",
    "multiply = tf.multiply(x, y)\n",
    "divide = tf.divide(x, y)\n",
    "\n",
    "dot_product = tf.reduce_sum(tf.multiply(x, y))"
   ]
  },
  {
   "cell_type": "code",
   "execution_count": 14,
   "id": "39b62990-8637-4c35-9654-6e7b496ec22f",
   "metadata": {},
   "outputs": [
    {
     "name": "stdout",
     "output_type": "stream",
     "text": [
      "Element wise Sum : [[ 0.6151574   0.9344125  -0.35823196]\n",
      " [ 1.8381772  -1.2198937  -0.53825414]\n",
      " [ 0.12511487  0.09789109 -0.6546799 ]], \n",
      "Element wise Subtract : [[ 0.79941255  1.3895531   0.01856665]\n",
      " [ 1.1206431  -0.07059747 -2.4874053 ]\n",
      " [-0.37262493  1.6992853  -0.8734156 ]], \n",
      "Element wise Multiply : [[-0.06516044 -0.26443276  0.03199636]\n",
      " [ 0.5307636   0.3707892  -1.4743668 ]\n",
      " [-0.0307989  -0.71949697 -0.08356225]], \n",
      "Element wise Divide : [[-7.6772356  -5.106039    0.9014505 ]\n",
      " [ 4.1235957   1.1228534  -1.5522959 ]\n",
      " [-0.49726796 -1.1222574  -6.9860363 ]], \n",
      "Dot Product : -1.7042689323425293\n"
     ]
    }
   ],
   "source": [
    "print(f'Element wise Sum : {sum}, \\nElement wise Subtract : {subtract}, \\nElement wise Multiply : {multiply}, \\nElement wise Divide : {divide}, \\nDot Product : {dot_product}')"
   ]
  },
  {
   "cell_type": "markdown",
   "id": "b6fef365-53f4-49e1-ad8d-49fe7f77895e",
   "metadata": {},
   "source": [
    "## Type Casting"
   ]
  },
  {
   "cell_type": "code",
   "execution_count": 15,
   "id": "7a946f88-1ec3-4361-9fb1-e1a01ade5fdb",
   "metadata": {},
   "outputs": [],
   "source": [
    "x = tf.cast(x, dtype = 'int8')\n",
    "y = tf.cast(y, dtype = 'float16')"
   ]
  },
  {
   "cell_type": "code",
   "execution_count": 16,
   "id": "530f9a18-7e94-4eb2-8f97-e505222e0524",
   "metadata": {},
   "outputs": [
    {
     "name": "stdout",
     "output_type": "stream",
     "text": [
      "tf.Tensor(\n",
      "[[ 0  1  0]\n",
      " [ 1  0 -1]\n",
      " [ 0  0  0]], shape=(3, 3), dtype=int8)\n",
      "tf.Tensor(\n",
      "[[-0.0921 -0.2275 -0.1884]\n",
      " [ 0.359  -0.5747  0.9746]\n",
      " [ 0.2489 -0.801   0.1094]], shape=(3, 3), dtype=float16)\n"
     ]
    }
   ],
   "source": [
    "print(x)\n",
    "print(y)"
   ]
  },
  {
   "cell_type": "markdown",
   "id": "f729a0d0-7736-4871-bc3d-4d3ccfb753c7",
   "metadata": {},
   "source": [
    "# Indexing a Tensor"
   ]
  },
  {
   "cell_type": "code",
   "execution_count": 17,
   "id": "81902cfe-e8ce-4bb7-a486-58bac9ea6567",
   "metadata": {},
   "outputs": [],
   "source": [
    "x = tf.random.normal(shape = (1, 10), mean = 5, stddev = 10)"
   ]
  },
  {
   "cell_type": "code",
   "execution_count": 18,
   "id": "34de5f4e-61bc-4ee8-a211-7be5c88caa59",
   "metadata": {},
   "outputs": [
    {
     "name": "stdout",
     "output_type": "stream",
     "text": [
      "tf.Tensor(\n",
      "[[ 18.11633   -11.194359    9.821027    1.4568758  -5.4163837  -3.8088655\n",
      "   14.689409    8.3194065   2.5618904  11.080187 ]], shape=(1, 10), dtype=float32)\n",
      "tf.Tensor([], shape=(0, 10), dtype=float32)\n",
      "tf.Tensor([], shape=(0, 10), dtype=float32)\n",
      "tf.Tensor(\n",
      "[[ 18.11633   -11.194359    9.821027    1.4568758  -5.4163837  -3.8088655\n",
      "   14.689409    8.3194065   2.5618904  11.080187 ]], shape=(1, 10), dtype=float32)\n",
      "tf.Tensor(\n",
      "[[ 18.11633   -11.194359    9.821027    1.4568758  -5.4163837  -3.8088655\n",
      "   14.689409    8.3194065   2.5618904  11.080187 ]], shape=(1, 10), dtype=float32)\n"
     ]
    }
   ],
   "source": [
    "print(x[:])\n",
    "print(x[1:])\n",
    "print(x[1:3])\n",
    "print(x[::2])\n",
    "print(x[::-1])"
   ]
  },
  {
   "cell_type": "markdown",
   "id": "7654dc33-e965-42ae-9d01-b7c6cf579910",
   "metadata": {},
   "source": [
    "# Reshaping a Tensor"
   ]
  },
  {
   "cell_type": "code",
   "execution_count": 19,
   "id": "81817a28-4997-41d8-8588-d054b2bce989",
   "metadata": {},
   "outputs": [],
   "source": [
    "x = tf.range(9)\n",
    "y = tf.reshape(x, shape = (3, 3))\n",
    "z = tf.transpose(y)"
   ]
  },
  {
   "cell_type": "code",
   "execution_count": 20,
   "id": "b84fa16c-db14-4271-acf4-dca4aceb5ccb",
   "metadata": {},
   "outputs": [
    {
     "name": "stdout",
     "output_type": "stream",
     "text": [
      "tf.Tensor([0 1 2 3 4 5 6 7 8], shape=(9,), dtype=int32)\n",
      "tf.Tensor(\n",
      "[[0 1 2]\n",
      " [3 4 5]\n",
      " [6 7 8]], shape=(3, 3), dtype=int32)\n",
      "tf.Tensor(\n",
      "[[0 3 6]\n",
      " [1 4 7]\n",
      " [2 5 8]], shape=(3, 3), dtype=int32)\n"
     ]
    }
   ],
   "source": [
    "print(x)\n",
    "print(y)\n",
    "print(z)"
   ]
  }
 ],
 "metadata": {
  "kernelspec": {
   "display_name": "Python 3 (ipykernel)",
   "language": "python",
   "name": "python3"
  },
  "language_info": {
   "codemirror_mode": {
    "name": "ipython",
    "version": 3
   },
   "file_extension": ".py",
   "mimetype": "text/x-python",
   "name": "python",
   "nbconvert_exporter": "python",
   "pygments_lexer": "ipython3",
   "version": "3.8.10"
  }
 },
 "nbformat": 4,
 "nbformat_minor": 5
}
